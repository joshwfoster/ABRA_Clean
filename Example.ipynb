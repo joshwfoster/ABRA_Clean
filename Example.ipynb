{
 "cells": [
  {
   "cell_type": "code",
   "execution_count": 1,
   "metadata": {},
   "outputs": [],
   "source": [
    "import sys, os\n",
    "import numpy as np\n",
    "from scipy import stats\n",
    "from iminuit import Minuit\n",
    "\n",
    "import analysis\n",
    "import matplotlib as mpl\n",
    "import matplotlib.pyplot as plt"
   ]
  },
  {
   "cell_type": "code",
   "execution_count": 2,
   "metadata": {},
   "outputs": [],
   "source": [
    "c = 299792.458 # km/s\n",
    "\n",
    "v0 = 220/c # unitless dispersion veloctiy \n",
    "vObs = 232/c # unitless boost velocity"
   ]
  },
  {
   "cell_type": "code",
   "execution_count": 3,
   "metadata": {},
   "outputs": [
    {
     "name": "stderr",
     "output_type": "stream",
     "text": [
      "WARNING:absl:No GPU/TPU found, falling back to CPU. (Set TF_CPP_MIN_LOG_LEVEL=0 and rerun for more info.)\n"
     ]
    }
   ],
   "source": [
    "ma = 2*np.pi*1e6\n",
    "freqs = np.linspace(1e6-2, 1e6+5, 141)\n",
    "\n",
    "template = analysis.getAxionTemplate(ma, freqs, v0, vObs)\n",
    "data = stats.norm.rvs(loc = template+1, scale = 1, size = (10, len(template))) # needs to be at least (1, N)"
   ]
  },
  {
   "cell_type": "markdown",
   "metadata": {},
   "source": [
    "#### Do the Analysis"
   ]
  },
  {
   "cell_type": "code",
   "execution_count": 4,
   "metadata": {},
   "outputs": [],
   "source": [
    "# Format the freqs, data, and templates in convenient units\n",
    "freq_center = (np.amax(freqs) + np.amin(freqs)) / 2\n",
    "freq_width = np.amax(freqs) - np.amin(freqs)\n",
    "freqs_no_dim = 2*(freqs-freq_center) / freq_width\n",
    "\n",
    "data_rescale = np.mean(data)\n",
    "data_no_dim = data / data_rescale\n",
    "\n",
    "template_rescale = np.amax(template)\n",
    "template_no_dim = template / template_rescale"
   ]
  },
  {
   "cell_type": "markdown",
   "metadata": {},
   "source": [
    "#### Format the Optimizer Guess and Bounds"
   ]
  },
  {
   "cell_type": "code",
   "execution_count": 5,
   "metadata": {},
   "outputs": [],
   "source": [
    "amp_guess = 0\n",
    "amp_upper_bound = 2*(np.amax(data) - np.amin(data))\n",
    "amp_lower_bound = -2*(np.amax(data) - np.amin(data))\n",
    "\n",
    "mean_guess = np.mean(data_no_dim, axis = 1)\n",
    "mean_upper_bounds = 2*mean_guess\n",
    "mean_lower_bounds = np.zeros_like(mean_guess)\n",
    "\n",
    "slope_guess = np.zeros_like(mean_guess)\n",
    "slope_upper_bounds = .25*np.ones_like(slope_guess)\n",
    "slope_lower_bounds = -.25*np.ones_like(slope_guess)\n",
    "\n",
    "upper_bounds = np.append(amp_upper_bound, np.append(mean_upper_bounds, slope_upper_bounds))\n",
    "lower_bounds = np.append(amp_lower_bound, np.append(mean_lower_bounds, slope_lower_bounds))\n",
    "bounds = np.vstack((lower_bounds, upper_bounds)).T\n",
    "guess = np.append(0, np.append(mean_guess, slope_guess))"
   ]
  },
  {
   "cell_type": "markdown",
   "metadata": {},
   "source": [
    "#### Run the Optimization"
   ]
  },
  {
   "cell_type": "code",
   "execution_count": 6,
   "metadata": {},
   "outputs": [],
   "source": [
    "loss = lambda x: analysis.NegLL(x, freqs_no_dim, data_no_dim, template_no_dim)\n",
    "grad = lambda x: analysis.NegLL_Jac(x, freqs_no_dim, data_no_dim, template_no_dim)\n",
    "\n",
    "m = Minuit(loss, guess, grad = grad)\n",
    "m.errordef = 1\n",
    "m.limits = bounds\n",
    "\n",
    "# Initially fix all parameters\n",
    "for i in range(len(guess)):\n",
    "    m.fixed['x' + str(i)] = True\n",
    "    \n",
    "# Fit each of the PSDs under their independent null hypotheses   \n",
    "for i in range(data_no_dim.shape[0]):\n",
    "    m.fixed['x' + str(i + 1)] = False\n",
    "    m.fixed['x' + str(i + 1 + data_no_dim.shape[0])] = False\n",
    "    \n",
    "    m.migrad()\n",
    "    \n",
    "    m.fixed['x' + str(i + 1)] = True\n",
    "    m.fixed['x' + str(i + 1 + data_no_dim.shape[0])] = True\n",
    "\n",
    "Null_TS = m.fval\n",
    "\n",
    "# Now release all parameters and fit the signal model hypothesis\n",
    "for i in range(len(guess)):\n",
    "    m.fixed['x' + str(i)] = False\n",
    "m.migrad()\n",
    "\n",
    "Signal_TS = m.fval\n",
    "\n",
    "Discovery_TS = Null_TS - Signal_TS\n",
    "Best_Fit = m.values['x0'] / template_rescale * data_rescale\n",
    "Error = m.errors['x0'] / template_rescale * data_rescale\n",
    "\n",
    "print(Discovery_TS, Best_Fit, Error)"
   ]
  },
  {
   "cell_type": "code",
   "execution_count": 8,
   "metadata": {},
   "outputs": [
    {
     "name": "stdout",
     "output_type": "stream",
     "text": [
      "10.923624983905029 0.6310756556530353 0.19065541951679682\n"
     ]
    }
   ],
   "source": []
  }
 ],
 "metadata": {
  "kernelspec": {
   "display_name": "TeXEnvironment",
   "language": "python",
   "name": "myenv"
  },
  "language_info": {
   "codemirror_mode": {
    "name": "ipython",
    "version": 3
   },
   "file_extension": ".py",
   "mimetype": "text/x-python",
   "name": "python",
   "nbconvert_exporter": "python",
   "pygments_lexer": "ipython3",
   "version": "3.7.4"
  }
 },
 "nbformat": 4,
 "nbformat_minor": 4
}
