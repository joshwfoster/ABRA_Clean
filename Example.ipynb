{
 "cells": [
  {
   "cell_type": "code",
   "execution_count": 1,
   "metadata": {},
   "outputs": [],
   "source": [
    "import sys, os\n",
    "import numpy as np\n",
    "from scipy import stats\n",
    "from iminuit import Minuit\n",
    "\n",
    "sys.path.append('./python')\n",
    "import analysis\n",
    "import matplotlib as mpl\n",
    "import matplotlib.pyplot as plt"
   ]
  },
  {
   "cell_type": "code",
   "execution_count": 2,
   "metadata": {},
   "outputs": [],
   "source": [
    "###########################\n",
    "# Setup Plotting Defaults #\n",
    "###########################\n",
    "# For more options see https://matplotlib.org/users/customizing.html\n",
    "\n",
    "# Line styles\n",
    "mpl.rcParams['lines.linewidth'] = 1.5\n",
    "mpl.rcParams['lines.antialiased'] = True\n",
    "mpl.rcParams['lines.dashed_pattern'] = 2.8, 1.5\n",
    "mpl.rcParams['lines.dashdot_pattern'] = 4.8, 1.5, 0.8, 1.5\n",
    "mpl.rcParams['lines.dotted_pattern'] = 1.1, 1.1\n",
    "mpl.rcParams['lines.scale_dashes'] = True\n",
    "\n",
    "# Default colors\n",
    "from cycler import cycler\n",
    "mpl.rcParams['axes.prop_cycle'] = cycler('color',['cornflowerblue','forestgreen','maroon','goldenrod','firebrick','mediumorchid', 'navy', 'brown'])\n",
    "\n",
    "\n",
    "# Fonts\n",
    "mpl.rcParams['font.family'] = 'serif'\n",
    "mpl.rcParams['font.serif'] = 'CMU Serif'\n",
    "mpl.rcParams['font.sans-serif'] = 'CMU Sans Serif, DejaVu Sans, Bitstream Vera Sans, Lucida Grande, Verdana, Geneva, Lucid, Arial, Helvetica, Avant Garde, sans-serif'\n",
    "mpl.rcParams['text.usetex'] = True\n",
    "\n",
    "# Axes\n",
    "mpl.rcParams['axes.linewidth'] = 1.0\n",
    "mpl.rcParams['axes.labelsize'] = 24\n",
    "mpl.rcParams['axes.labelpad'] = 9.0\n",
    "                                                  \n",
    "                                                  \n",
    "# Tick marks - the essence of life\n",
    "mpl.rcParams['xtick.top'] = True\n",
    "mpl.rcParams['xtick.major.size'] = 10\n",
    "mpl.rcParams['xtick.minor.size'] = 5\n",
    "mpl.rcParams['xtick.major.width'] = 1.0\n",
    "mpl.rcParams['xtick.minor.width'] = 0.75\n",
    "mpl.rcParams['xtick.major.pad'] = 8\n",
    "mpl.rcParams['xtick.labelsize'] = 22\n",
    "mpl.rcParams['xtick.direction'] = 'in'\n",
    "mpl.rcParams['xtick.minor.visible'] = True\n",
    "mpl.rcParams['ytick.right'] = True\n",
    "mpl.rcParams['ytick.major.size'] = 10\n",
    "mpl.rcParams['ytick.minor.size'] = 5\n",
    "mpl.rcParams['ytick.major.width'] = 1.0\n",
    "mpl.rcParams['ytick.minor.width'] = 0.75\n",
    "mpl.rcParams['ytick.major.pad'] = 8\n",
    "mpl.rcParams['ytick.labelsize'] = 22\n",
    "mpl.rcParams['ytick.direction'] = 'in'\n",
    "mpl.rcParams['ytick.minor.visible'] = True\n",
    "\n",
    "# Legend\n",
    "mpl.rcParams['legend.fontsize'] = 14\n",
    "mpl.rcParams['legend.frameon'] = True\n",
    "mpl.rcParams['legend.framealpha'] = 1.\n",
    "#mpl.rcParams['legend.edgecolor'] = 'black'\n",
    "mpl.rcParams['legend.fancybox'] = True\n",
    "mpl.rcParams['legend.borderpad'] = 0.4 # border whitespace\n",
    "mpl.rcParams['legend.labelspacing'] = 0.5 # the vertical space between the legend entries\n",
    "mpl.rcParams['legend.handlelength'] = 1.5 # the length of the legend lines\n",
    "mpl.rcParams['legend.handleheight'] = 0.7 # the height of the legend handle\n",
    "mpl.rcParams['legend.handletextpad'] = 0.5 # the space between the legend line and legend text\n",
    "mpl.rcParams['legend.borderaxespad'] = 0.5 # the border between the axes and legend edge\n",
    "mpl.rcParams['legend.columnspacing'] = 2.0 # column separation\n",
    "\n",
    "\n",
    "\n",
    "\n",
    "# Figure size\n",
    "mpl.rcParams['figure.figsize'] = 10, 6#, 12\n",
    "\n",
    "# Save details\n",
    "mpl.rcParams['savefig.bbox'] = 'tight'\n",
    "mpl.rcParams['savefig.pad_inches'] = 0.1"
   ]
  },
  {
   "cell_type": "code",
   "execution_count": 3,
   "metadata": {},
   "outputs": [],
   "source": [
    "c = 299792.458 # km/s\n",
    "\n",
    "v0 = 220/c # unitless dispersion veloctiy \n",
    "vObs = 232/c # unitless boost velocity"
   ]
  },
  {
   "cell_type": "code",
   "execution_count": 4,
   "metadata": {},
   "outputs": [
    {
     "name": "stderr",
     "output_type": "stream",
     "text": [
      "WARNING:absl:No GPU/TPU found, falling back to CPU. (Set TF_CPP_MIN_LOG_LEVEL=0 and rerun for more info.)\n"
     ]
    }
   ],
   "source": [
    "ma = 2*np.pi*1e6\n",
    "freqs = np.linspace(1e6-6, 1e6+10, 601)\n",
    "\n",
    "template = analysis.getAxionTemplate(ma, freqs, v0, vObs)\n",
    "data = stats.norm.rvs(loc = .1*template + 1, scale = .5, size = (1, len(template))) # needs to be at least (1, N)"
   ]
  },
  {
   "cell_type": "code",
   "execution_count": 5,
   "metadata": {},
   "outputs": [],
   "source": [
    "fmin = ma / 2. / np.pi * (1-.5*(vObs + v0)**2)\n",
    "fmax = ma / 2. / np.pi * (1+2*(vObs + v0)**2)\n",
    "\n",
    "locs = np.where((freqs >= fmin)*(freqs <= fmax))[0]"
   ]
  },
  {
   "cell_type": "markdown",
   "metadata": {},
   "source": [
    "#### Do the Analysis"
   ]
  },
  {
   "cell_type": "code",
   "execution_count": 6,
   "metadata": {},
   "outputs": [],
   "source": [
    "# Format the freqs, data, and templates in convenient units\n",
    "freq_center = (np.amax(freqs[locs]) + np.amin(freqs[locs])) / 2\n",
    "freq_width = np.amax(freqs[locs]) - np.amin(freqs[locs])\n",
    "freqs_no_dim = 2*(freqs-freq_center) / freq_width\n",
    "\n",
    "data_rescale = np.mean(data)\n",
    "data_no_dim = data / data_rescale\n",
    "\n",
    "template_rescale = np.amax(template)\n",
    "template_no_dim = template / template_rescale"
   ]
  },
  {
   "cell_type": "markdown",
   "metadata": {},
   "source": [
    "#### Format the Optimizer Guess and Bounds"
   ]
  },
  {
   "cell_type": "code",
   "execution_count": 7,
   "metadata": {},
   "outputs": [],
   "source": [
    "amp_guess = 0\n",
    "amp_upper_bound = 2*(np.amax(data) - np.amin(data))\n",
    "amp_lower_bound = -2*(np.amax(data) - np.amin(data))\n",
    "\n",
    "mean_guess = np.mean(data_no_dim, axis = 1)\n",
    "mean_upper_bounds = 2*mean_guess\n",
    "mean_lower_bounds = np.zeros_like(mean_guess)\n",
    "\n",
    "slope_guess = np.zeros_like(mean_guess)\n",
    "slope_upper_bounds = .25*np.ones_like(slope_guess)\n",
    "slope_lower_bounds = -.25*np.ones_like(slope_guess)\n",
    "\n",
    "upper_bounds = np.append(amp_upper_bound, np.append(mean_upper_bounds, slope_upper_bounds))\n",
    "lower_bounds = np.append(amp_lower_bound, np.append(mean_lower_bounds, slope_lower_bounds))\n",
    "bounds = np.vstack((lower_bounds, upper_bounds)).T\n",
    "guess = np.append(0, np.append(mean_guess, slope_guess))"
   ]
  },
  {
   "cell_type": "markdown",
   "metadata": {},
   "source": [
    "#### Run the Optimization"
   ]
  },
  {
   "cell_type": "code",
   "execution_count": 8,
   "metadata": {},
   "outputs": [],
   "source": [
    "loss = lambda x: analysis.NegLL(x, freqs_no_dim[locs], data_no_dim[:, locs], template_no_dim[locs])\n",
    "grad = lambda x: analysis.NegLL_Jac(x, freqs_no_dim[locs], data_no_dim[:, locs], template_no_dim[locs])\n",
    "\n",
    "m = Minuit(loss, guess, grad = grad)\n",
    "m.errordef = 1\n",
    "m.limits = bounds\n",
    "\n",
    "# Initially fix all parameters\n",
    "for i in range(len(guess)):\n",
    "    m.fixed['x' + str(i)] = True\n",
    "    \n",
    "for i in range(data_no_dim.shape[0]):\n",
    "    m.fixed['x' + str(i+1)] = False\n",
    "    m.fixed['x' + str(i + 1 + data_no_dim.shape[0])] = False\n",
    "    m.migrad()\n",
    "    \n",
    "    m.fixed['x' + str(i+1)] = True\n",
    "    m.fixed['x' + str(i + 1 + data_no_dim.shape[0])] = True\n",
    "    \n",
    "Null_TS = m.fval\n",
    "Null_Fit = np.array(m.values)"
   ]
  },
  {
   "cell_type": "code",
   "execution_count": 9,
   "metadata": {},
   "outputs": [
    {
     "name": "stdout",
     "output_type": "stream",
     "text": [
      "0.4355524690503785 0.16701568497014077 0.2536074337594782\n"
     ]
    }
   ],
   "source": [
    "# Now release all parameters and fit the signal model hypothesis\n",
    "m = Minuit(loss, Null_Fit, grad = grad)\n",
    "m.errordef = 1\n",
    "m.limits = bounds\n",
    "m.migrad()\n",
    "\n",
    "Signal_TS = m.fval\n",
    "Signal_Fit = m.values\n",
    "\n",
    "Discovery_TS = Null_TS - Signal_TS\n",
    "Best_Fit = m.values['x0'] / template_rescale * data_rescale\n",
    "Error = m.errors['x0'] / template_rescale * data_rescale\n",
    "\n",
    "print(Discovery_TS, Best_Fit, Error)"
   ]
  },
  {
   "cell_type": "code",
   "execution_count": 10,
   "metadata": {},
   "outputs": [],
   "source": [
    "m.minos('x0', cl = .9)\n",
    "limit =  Best_Fit + m.merrors['x0'].upper / template_rescale * data_rescale\n",
    "\n",
    "# One Sigma Upper Errorbar for Limit\n",
    "m.minos('x0', cl = stats.chi2.cdf((stats.chi2.ppf(.9, df = 1)**.5+1)**2, df = 1))\n",
    "one_sigma_upper =  Best_Fit + m.merrors['x0'].upper / template_rescale * data_rescale\n",
    "\n",
    "# Two Sigma Upper Errorbar for Limit\n",
    "m.minos('x0', cl = stats.chi2.cdf((stats.chi2.ppf(.9, df = 1)**.5+2)**2, df = 1))\n",
    "two_sigma_upper =  Best_Fit + m.merrors['x0'].upper / template_rescale * data_rescale\n",
    "\n",
    "# One Sigma Lower Errorbar for Limit\n",
    "m.minos('x0', cl = stats.chi2.cdf((stats.chi2.ppf(.9, df = 1)**.5-1)**2, df = 1))\n",
    "one_sigma_lower =  Best_Fit + m.merrors['x0'].upper / template_rescale * data_rescale\n",
    "\n",
    "# Now we'll use Minuit to construct a profiled likelihood\n",
    "out = np.array(m.mnprofile('x0', size = 100, bound = 6, subtract_min = True))\n",
    "\n",
    "# Finally, use Asimov to get the power-constrained limit threshold\n",
    "pcl = (stats.chi2.ppf(.9, df = 1)**.5-1)*m.errors['x0']/ template_rescale * data_rescale\n",
    "limit = np.maximum(limit, pcl) "
   ]
  },
  {
   "cell_type": "code",
   "execution_count": null,
   "metadata": {},
   "outputs": [],
   "source": [
    "mpl.rcParams['figure.figsize'] = 10, 5\n",
    "plt.plot(out[0]/ template_rescale * data_rescale, out[1], lw = 2, color = 'black')\n",
    "plt.axvline(Best_Fit, color = 'black', ls = ':', lw = 2, label = 'Best Fit')\n",
    "plt.axvline(limit, color = 'red', lw = 3, label = '95\\% Upper Limit')\n",
    "plt.axvline(pcl, color = 'navy', ls = '--', lw = 2, label = 'PCL Threshold')\n",
    "plt.axvspan(one_sigma_lower, one_sigma_upper, color = 'limegreen', alpha = .75)\n",
    "plt.axvspan(one_sigma_upper, two_sigma_upper, color = 'gold', alpha = .75)\n",
    "\n",
    "plt.ylim(0, 25)\n",
    "plt.ylabel('Test Statistic')\n",
    "plt.xlabel('Signal Amplitude')\n",
    "plt.legend(fontsize = 16, ncol =3, loc = 'upper left')\n",
    "plt.show()"
   ]
  }
 ],
 "metadata": {
  "kernelspec": {
   "display_name": "TeXEnvironment",
   "language": "python",
   "name": "myenv"
  },
  "language_info": {
   "codemirror_mode": {
    "name": "ipython",
    "version": 3
   },
   "file_extension": ".py",
   "mimetype": "text/x-python",
   "name": "python",
   "nbconvert_exporter": "python",
   "pygments_lexer": "ipython3",
   "version": "3.7.4"
  }
 },
 "nbformat": 4,
 "nbformat_minor": 4
}
